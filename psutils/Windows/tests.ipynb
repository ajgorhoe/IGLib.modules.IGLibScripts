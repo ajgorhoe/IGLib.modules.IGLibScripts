{
 "cells": [
  {
   "cell_type": "markdown",
   "id": "698a5dd5",
   "metadata": {},
   "source": [
    "# Polyglot Notebook for Quick Testing"
   ]
  },
  {
   "cell_type": "code",
   "execution_count": 10,
   "id": "fc3e71ed",
   "metadata": {},
   "outputs": [
    {
     "name": "stdout",
     "output_type": "stream",
     "text": [
      "Members of string array 'strings':\n",
      "abc\n",
      "str1\n",
      "str2\n"
     ]
    }
   ],
   "source": [
    "string[] strings = [\"abc\", \"str1\", \"str2\"];\n",
    "Console.WriteLine(\"Members of string array 'strings':\");\n",
    "foreach (string s in strings) {\n",
    "    Console.WriteLine(s);\n",
    "}"
   ]
  },
  {
   "cell_type": "code",
   "execution_count": 11,
   "id": "3e574e61",
   "metadata": {},
   "outputs": [
    {
     "name": "stdout",
     "output_type": "stream",
     "text": [
      "Members of object array 'objects':\n",
      "abc\n",
      "str1\n",
      "str2\n"
     ]
    }
   ],
   "source": [
    "object[] objects;\n",
    "objects = strings;\n",
    "Console.WriteLine(\"Members of object array 'objects':\");\n",
    "foreach (object o in objects) {\n",
    "    Console.WriteLine(o);\n",
    "}"
   ]
  },
  {
   "cell_type": "code",
   "execution_count": 12,
   "id": "3a3c264d",
   "metadata": {},
   "outputs": [],
   "source": [
    "string[] strings2 = (string[])objects;"
   ]
  },
  {
   "cell_type": "code",
   "execution_count": null,
   "id": "11b0d8da",
   "metadata": {},
   "outputs": [
    {
     "data": {
      "text/html": [
       "<div class=\"dni-plaintext\"><pre>[ abc, str1, str2 ]</pre></div><style>\r\n",
       ".dni-code-hint {\r\n",
       "    font-style: italic;\r\n",
       "    overflow: hidden;\r\n",
       "    white-space: nowrap;\r\n",
       "}\r\n",
       ".dni-treeview {\r\n",
       "    white-space: nowrap;\r\n",
       "}\r\n",
       ".dni-treeview td {\r\n",
       "    vertical-align: top;\r\n",
       "    text-align: start;\r\n",
       "}\r\n",
       "details.dni-treeview {\r\n",
       "    padding-left: 1em;\r\n",
       "}\r\n",
       "table td {\r\n",
       "    text-align: start;\r\n",
       "}\r\n",
       "table tr { \r\n",
       "    vertical-align: top; \r\n",
       "    margin: 0em 0px;\r\n",
       "}\r\n",
       "table tr td pre \r\n",
       "{ \r\n",
       "    vertical-align: top !important; \r\n",
       "    margin: 0em 0px !important;\r\n",
       "} \r\n",
       "table th {\r\n",
       "    text-align: start;\r\n",
       "}\r\n",
       "</style>"
      ]
     },
     "metadata": {},
     "output_type": "display_data"
    }
   ],
   "source": [
    "// Transfer of variables from the previous block:\n",
    "var xx = strings;\n",
    "strings2"
   ]
  },
  {
   "cell_type": "code",
   "execution_count": null,
   "id": "398b87c5",
   "metadata": {},
   "outputs": [],
   "source": []
  }
 ],
 "metadata": {
  "kernelspec": {
   "display_name": ".NET (C#)",
   "language": "C#",
   "name": ".net-csharp"
  },
  "language_info": {
   "name": "polyglot-notebook"
  },
  "polyglot_notebook": {
   "kernelInfo": {
    "defaultKernelName": "csharp",
    "items": [
     {
      "aliases": [],
      "name": "csharp"
     }
    ]
   }
  }
 },
 "nbformat": 4,
 "nbformat_minor": 5
}
