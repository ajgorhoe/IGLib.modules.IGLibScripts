{
 "cells": [
  {
   "cell_type": "markdown",
   "id": "698a5dd5",
   "metadata": {},
   "source": [
    "# Polyglot Notebook for Quick Testing"
   ]
  },
  {
   "cell_type": "code",
   "execution_count": null,
   "id": "fc3e71ed",
   "metadata": {},
   "outputs": [
    {
     "name": "stdout",
     "output_type": "stream",
     "text": [
      "Members of string array:\n",
      "abc\n",
      "str1\n",
      "str2\n"
     ]
    }
   ],
   "source": [
    "string[] strings = [\"abc\", \"str1\", \"str2\"];\n",
    "Console.WriteLine(\"Members of string array 'strings':\");\n",
    "foreach (string s in strings) {\n",
    "    Console.WriteLine(s);\n",
    "}"
   ]
  },
  {
   "cell_type": "code",
   "execution_count": 6,
   "id": "3e574e61",
   "metadata": {},
   "outputs": [
    {
     "name": "stdout",
     "output_type": "stream",
     "text": [
      "Members of object array 'objects':\n",
      "abc\n",
      "str1\n",
      "str2\n"
     ]
    }
   ],
   "source": [
    "object[] objects;\n",
    "objects = strings;\n",
    "Console.WriteLine(\"Members of object array 'objects':\");\n",
    "foreach (object o in objects) {\n",
    "    Console.WriteLine(o);\n",
    "}"
   ]
  },
  {
   "cell_type": "code",
   "execution_count": 5,
   "id": "3a3c264d",
   "metadata": {},
   "outputs": [],
   "source": [
    "string[] str2 = (string[])objects;"
   ]
  },
  {
   "cell_type": "code",
   "execution_count": null,
   "id": "11b0d8da",
   "metadata": {},
   "outputs": [],
   "source": []
  }
 ],
 "metadata": {
  "kernelspec": {
   "display_name": ".NET (C#)",
   "language": "C#",
   "name": ".net-csharp"
  },
  "language_info": {
   "name": "polyglot-notebook"
  },
  "polyglot_notebook": {
   "kernelInfo": {
    "defaultKernelName": "csharp",
    "items": [
     {
      "aliases": [],
      "name": "csharp"
     }
    ]
   }
  }
 },
 "nbformat": 4,
 "nbformat_minor": 5
}
